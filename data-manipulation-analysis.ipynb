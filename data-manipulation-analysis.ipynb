{
 "cells": [
  {
   "cell_type": "code",
   "execution_count": 1,
   "id": "7c56d5d7",
   "metadata": {
    "execution": {
     "iopub.execute_input": "2023-05-17T14:47:54.613829Z",
     "iopub.status.busy": "2023-05-17T14:47:54.613275Z",
     "iopub.status.idle": "2023-05-17T14:47:54.667703Z",
     "shell.execute_reply": "2023-05-17T14:47:54.666490Z"
    },
    "papermill": {
     "duration": 0.062116,
     "end_time": "2023-05-17T14:47:54.670566",
     "exception": false,
     "start_time": "2023-05-17T14:47:54.608450",
     "status": "completed"
    },
    "tags": []
   },
   "outputs": [
    {
     "name": "stdout",
     "output_type": "stream",
     "text": [
      "   A  B  C\n",
      "0  1  2  3\n",
      "1  4  5  6\n",
      "2  7  8  9\n",
      "\n",
      "Column_A \n",
      "0    1\n",
      "1    4\n",
      "2    7\n",
      "Name: A, dtype: int64\n",
      "\n",
      "Row_0 \n",
      "A    1\n",
      "B    2\n",
      "C    3\n",
      "Name: 0, dtype: int64\n",
      "\n",
      "Column B sum \n",
      "15\n",
      "\n",
      "Row mean \n",
      "0    2.0\n",
      "1    5.0\n",
      "2    8.0\n",
      "dtype: float64\n",
      "\n",
      "Filtered DataFrame:\n",
      "   A  B  C\n",
      "1  4  5  6\n",
      "2  7  8  9\n",
      "\n",
      "Sorted DataFrame:\n",
      "   A  B  C\n",
      "2  7  8  9\n",
      "1  4  5  6\n",
      "0  1  2  3\n"
     ]
    }
   ],
   "source": [
    "#Import the required libraries\n",
    "import numpy as np \n",
    "import pandas as pd \n",
    "\n",
    "# Creating a numpy array\n",
    "data = np.array([[1, 2, 3],\n",
    "                 [4, 5, 6],\n",
    "                 [7, 8, 9]])\n",
    "\n",
    "# Creating a pandas DataFrame from the numpy array\n",
    "df = pd.DataFrame(data, columns=['A', 'B', 'C'])\n",
    "\n",
    "# To Display the DataFrame\n",
    "print(df)\n",
    "\n",
    "# For Accessing columns \n",
    "column_A = df['A']\n",
    "print(\"\\nColumn_A \\n{}\".format(column_A))\n",
    "\n",
    "# For Accessing rows\n",
    "row_0 = df.iloc[0]\n",
    "print(\"\\nRow_0 \\n{}\".format(row_0))\n",
    "\n",
    "# Calculating column sum\n",
    "column_sum = df['B'].sum()\n",
    "print(\"\\nColumn B sum \\n{}\".format(column_sum))\n",
    "\n",
    "# Calculating row mean\n",
    "row_mean = df.mean(axis=1)\n",
    "print(\"\\nRow mean \\n{}\".format(row_mean))\n",
    "\n",
    "# Filtering rows based on condition\n",
    "filtered_df = df[df['C'] > 5]\n",
    "print(\"\\nFiltered DataFrame:\")\n",
    "print(filtered_df)\n",
    "\n",
    "# Sorting DataFrame by column B in descending order\n",
    "sorted_df = df.sort_values(by='B', ascending=False)\n",
    "print(\"\\nSorted DataFrame:\")\n",
    "print(sorted_df)"
   ]
  },
  {
   "cell_type": "markdown",
   "id": "f445aad6",
   "metadata": {
    "papermill": {
     "duration": 0.003622,
     "end_time": "2023-05-17T14:47:54.676580",
     "exception": false,
     "start_time": "2023-05-17T14:47:54.672958",
     "status": "completed"
    },
    "tags": []
   },
   "source": [
    "# Data Manipulation and Analysis Example\n",
    "This notebook is about basic data manipulation and \n",
    "analysis tasks using numpy and pandas in Python. \n",
    "The code above explains various operations on a DataFrame, \n",
    "including accessing columns and rows, \n",
    "performing calculations(like mean), filtering, and sorting."
   ]
  },
  {
   "cell_type": "markdown",
   "id": "17ff1fe7",
   "metadata": {
    "papermill": {
     "duration": 0.001758,
     "end_time": "2023-05-17T14:47:54.680461",
     "exception": false,
     "start_time": "2023-05-17T14:47:54.678703",
     "status": "completed"
    },
    "tags": []
   },
   "source": [
    "### Importing Required Libraries\n",
    "First, we import the necessary libraries such as numpy and pandas.\n",
    "\n",
    "numpy is a powerful library for numerical computations in Python and also provides help and support for large, multi-dimensional arrays and matrices, along with a collection of mathematical functions to operate on these arrays.\n",
    "\n",
    "pandas is such a library that is built on top of numpy and provides high-level data structures and data analysis tools. It introduces the DataFrame, which is a two-dimensional tabular data structure with labeled axes. We have functions for analyzing, cleaning, exploring, and manipulating data because of pandas.\n",
    "\n",
    "We can see that we can access a wide range of functions and methods to perform various data operations effectively. These libraries form the foundation for the subsequent data manipulation and analysis tasks in the code."
   ]
  }
 ],
 "metadata": {
  "kernelspec": {
   "display_name": "Python 3",
   "language": "python",
   "name": "python3"
  },
  "language_info": {
   "codemirror_mode": {
    "name": "ipython",
    "version": 3
   },
   "file_extension": ".py",
   "mimetype": "text/x-python",
   "name": "python",
   "nbconvert_exporter": "python",
   "pygments_lexer": "ipython3",
   "version": "3.10.10"
  },
  "papermill": {
   "default_parameters": {},
   "duration": 13.319298,
   "end_time": "2023-05-17T14:47:55.603871",
   "environment_variables": {},
   "exception": null,
   "input_path": "__notebook__.ipynb",
   "output_path": "__notebook__.ipynb",
   "parameters": {},
   "start_time": "2023-05-17T14:47:42.284573",
   "version": "2.4.0"
  }
 },
 "nbformat": 4,
 "nbformat_minor": 5
}
